{
 "cells": [
  {
   "cell_type": "markdown",
   "metadata": {},
   "source": [
    "## Петренко Дарья, группа 317\n",
    "## сравнение реализаций функции calc_expectations "
   ]
  },
  {
   "cell_type": "code",
   "execution_count": 1,
   "metadata": {},
   "outputs": [],
   "source": [
    "import numpy as np\n",
    "from scipy.signal import convolve2d\n",
    "from random import random, randint\n",
    "\n",
    "\n",
    "row_num = 50\n",
    "col_num = 100"
   ]
  },
  {
   "cell_type": "markdown",
   "metadata": {},
   "source": [
    "1) полностью невекторизованная реализация"
   ]
  },
  {
   "cell_type": "code",
   "execution_count": 2,
   "metadata": {},
   "outputs": [],
   "source": [
    "def calc_expectations_non_vect(h, w, X, Q):\n",
    "    prob_matr = list()\n",
    "    for i in range(len(X)):\n",
    "        curr_list = list()\n",
    "        for j in range(len(X[0])):\n",
    "            sum = 0\n",
    "            for m in range(max(i - h + 1, 0), i + 1):\n",
    "                for n in range(max(j - w + 1, 0), j + 1):\n",
    "                    sum += Q[m][n]\n",
    "            curr_list.append(sum)\n",
    "        prob_matr.append(curr_list)\n",
    "    for i in range(len(X)):\n",
    "        for j in range(len(X[0])):\n",
    "            prob_matr[i][j] *= X[i][j]\n",
    "    return prob_matr"
   ]
  },
  {
   "cell_type": "markdown",
   "metadata": {},
   "source": [
    "2) частично векторизованная реализация"
   ]
  },
  {
   "cell_type": "code",
   "execution_count": 3,
   "metadata": {},
   "outputs": [],
   "source": [
    "def calc_expectations_half_vect(h, w, X, Q):\n",
    "    row_num = np.size(X, 0)  \n",
    "    col_num = np.size(X, 1)\n",
    "    prob_matr = np.empty((row_num, col_num))\n",
    "    for i in range(row_num):\n",
    "        for j in range(col_num):\n",
    "            prob_matr[i, j] = np.sum(Q[max(i - h + 1, 0):i + 1, max(j - w + 1, 0):j + 1])\n",
    "    return X * prob_matr"
   ]
  },
  {
   "cell_type": "markdown",
   "metadata": {},
   "source": [
    "3) полностью векторизованная реализация"
   ]
  },
  {
   "cell_type": "code",
   "execution_count": 4,
   "metadata": {},
   "outputs": [],
   "source": [
    "def calc_expectations_vect(h, w, X, Q):\n",
    "    conv_matr = np.ones((h, w))\n",
    "    Q = convolve2d(Q, conv_matr, mode='full')\n",
    "    Q = Q[:np.size(X, 0), :np.size(X, 1)]\n",
    "    return X * Q"
   ]
  },
  {
   "cell_type": "code",
   "execution_count": 5,
   "metadata": {},
   "outputs": [],
   "source": [
    "X = []\n",
    "Q = []\n",
    "\n",
    "for i in range(row_num):\n",
    "    curr_list_X = []\n",
    "    curr_list_Q = []\n",
    "    for j in range(col_num):\n",
    "        curr_list_X.append(randint(0, 100))\n",
    "        curr_list_Q.append(random())\n",
    "    X.append(curr_list_X)\n",
    "    Q.append(curr_list_Q)\n",
    "    \n",
    "X_np = np.array(X)\n",
    "Q_np = np.array(Q)"
   ]
  },
  {
   "cell_type": "code",
   "execution_count": 6,
   "metadata": {},
   "outputs": [
    {
     "name": "stdout",
     "output_type": "stream",
     "text": [
      "9.09 ms ± 207 µs per loop (mean ± std. dev. of 7 runs, 100 loops each)\n"
     ]
    }
   ],
   "source": [
    "%timeit calc_expectations_non_vect(2, 2, X, Q)"
   ]
  },
  {
   "cell_type": "code",
   "execution_count": 7,
   "metadata": {
    "scrolled": true
   },
   "outputs": [
    {
     "name": "stdout",
     "output_type": "stream",
     "text": [
      "26.6 ms ± 2.44 ms per loop (mean ± std. dev. of 7 runs, 10 loops each)\n"
     ]
    }
   ],
   "source": [
    "%timeit calc_expectations_half_vect(2, 2, X_np, Q_np)"
   ]
  },
  {
   "cell_type": "code",
   "execution_count": 8,
   "metadata": {},
   "outputs": [
    {
     "name": "stdout",
     "output_type": "stream",
     "text": [
      "137 µs ± 600 ns per loop (mean ± std. dev. of 7 runs, 10000 loops each)\n"
     ]
    }
   ],
   "source": [
    "%timeit calc_expectations_vect(2, 2, X_np, Q_np)"
   ]
  },
  {
   "cell_type": "markdown",
   "metadata": {},
   "source": [
    "Выводы: Как и ожидалось, полностью векторизованная функция работает намного быстрее остальных. Однако частично векторизованная функция в несколько раз медленнее невекторизованной, причем тенденция сохраняется для матриц различных размеров, от 2 до нескольких сотен по каждому измерению. У меня есть предположение, что структура данных numpy array неэффективно работает с некоторыми базовыми функциями языка Питон. Ниже показано, что простое итерирование по всем элементам массива типа numpy array с суммированием всех элементов в несколько раз медленнее тех же действий, произведенных с двумерным списком."
   ]
  },
  {
   "cell_type": "code",
   "execution_count": 9,
   "metadata": {},
   "outputs": [],
   "source": [
    "def my_loop_np():\n",
    "    sum = 0\n",
    "    for i in range(row_num):\n",
    "        for j in range(col_num):\n",
    "            sum += Q_np[i][j]"
   ]
  },
  {
   "cell_type": "code",
   "execution_count": 10,
   "metadata": {},
   "outputs": [],
   "source": [
    "def my_loop():\n",
    "    sum = 0\n",
    "    for i in range(row_num):\n",
    "        for j in range(col_num):\n",
    "            sum += Q[i][j]"
   ]
  },
  {
   "cell_type": "code",
   "execution_count": 11,
   "metadata": {},
   "outputs": [
    {
     "name": "stdout",
     "output_type": "stream",
     "text": [
      "1.44 ms ± 20.2 µs per loop (mean ± std. dev. of 7 runs, 1000 loops each)\n"
     ]
    }
   ],
   "source": [
    "%timeit my_loop_np()"
   ]
  },
  {
   "cell_type": "code",
   "execution_count": 12,
   "metadata": {},
   "outputs": [
    {
     "name": "stdout",
     "output_type": "stream",
     "text": [
      "366 µs ± 4.37 µs per loop (mean ± std. dev. of 7 runs, 1000 loops each)\n"
     ]
    }
   ],
   "source": [
    "%timeit my_loop()"
   ]
  }
 ],
 "metadata": {
  "kernelspec": {
   "display_name": "Python 3",
   "language": "python",
   "name": "python3"
  },
  "language_info": {
   "codemirror_mode": {
    "name": "ipython",
    "version": 3
   },
   "file_extension": ".py",
   "mimetype": "text/x-python",
   "name": "python",
   "nbconvert_exporter": "python",
   "pygments_lexer": "ipython3",
   "version": "3.6.6"
  }
 },
 "nbformat": 4,
 "nbformat_minor": 2
}
