{
 "cells": [
  {
   "cell_type": "code",
   "execution_count": 2,
   "metadata": {},
   "outputs": [],
   "source": [
    "import numpy as np\n",
    "from sklearn.neighbors import NearestNeighbors\n",
    "from sklearn.datasets import fetch_mldata\n",
    "import matplotlib.pyplot as plt\n"
   ]
  },
  {
   "cell_type": "code",
   "execution_count": 3,
   "metadata": {},
   "outputs": [],
   "source": [
    "def euclidean_distance(X, Y):\n",
    "    return np.sqrt(\n",
    "            np.sum(X**2, axis=1)[:, np.newaxis] +\n",
    "            np.sum(Y**2, axis=1) - 2 * X.dot(Y.T)\n",
    "            )\n",
    "\n",
    "\n",
    "def cosine_distance(X, Y):\n",
    "    X = X.astype('float64') / np.sqrt(np.sum(X**2, axis=1)[:, np.newaxis])\n",
    "    Y = Y.astype('float64') / np.sqrt(np.sum(Y**2, axis=1)[:, np.newaxis])\n",
    "    return 1 - X.dot(Y.T)"
   ]
  },
  {
   "cell_type": "code",
   "execution_count": 4,
   "metadata": {},
   "outputs": [],
   "source": [
    "class KNNClassifier:\n",
    "    def __init__(self, k, strategy, metric, weights, test_block_size):\n",
    "        self.k = k\n",
    "        self.strategy = strategy\n",
    "        self.metric = metric\n",
    "        self.weights = weights\n",
    "        self.test_block_size = test_block_size\n",
    "\n",
    "    def fit(self, X, y):\n",
    "        if(self.strategy == 'my_own'):\n",
    "            self.X = X\n",
    "            self.y = y\n",
    "        else:\n",
    "            self.y = y\n",
    "            self.sklearn_knn = NearestNeighbors(\n",
    "                    n_neighbors=self.k, algorithm=self.strategy,\n",
    "                    metric=self.metric).fit(X)\n",
    "\n",
    "    def find_kneighbors(self, X, return_distance):\n",
    "        iter_num = np.size(X, 0) // self.test_block_size\n",
    "        if(np.size(X, 0) % self.test_block_size):\n",
    "            iter_num += 1\n",
    "        ind_list = list()\n",
    "        if(return_distance):\n",
    "            dist_list = list()\n",
    "        for i in range(iter_num):\n",
    "            ind_beg = self.test_block_size * i\n",
    "            ind_end = self.test_block_size * (i + 1)\n",
    "            if(self.strategy == 'my_own'):\n",
    "                if(self.metric == 'euclidean'):\n",
    "                    distance_matrix = euclidean_distance(X[ind_beg:ind_end], self.X)\n",
    "                elif(self.metric == 'cosine'):\n",
    "                    distance_matrix = cosine_distance(X[ind_beg:ind_end], self.X)\n",
    "                k_ind_matrix = np.argsort(distance_matrix, axis=1)[:, :self.k]\n",
    "                ind_list.append(k_ind_matrix)\n",
    "                if(return_distance):\n",
    "                    dist_list.append(distance_matrix[\n",
    "                        np.arange(np.size(k_ind_matrix, 0))[:, np.newaxis],\n",
    "                        k_ind_matrix])\n",
    "            else:\n",
    "                if(return_distance):\n",
    "                    dist, ind = self.sklearn_knn.kneighbors(\n",
    "                    X[ind_beg:ind_end], n_neighbors=self.k,\n",
    "                    return_distance=return_distance)\n",
    "                    dist_list.append(dist)\n",
    "                    ind_list.append(ind)\n",
    "                else:\n",
    "                    ind_list.append(\n",
    "                        self.sklearn_knn.kneighbors(\n",
    "                                X[ind_beg:ind_end], n_neighbors=self.k,\n",
    "                                return_distance=return_distance))\n",
    "        if(return_distance):\n",
    "            return np.concatenate(dist_list), np.concatenate(ind_list)\n",
    "        else:\n",
    "            return np.concatenate(ind_list)\n",
    "\n",
    "    def predict(self, X):\n",
    "        if(not self.weights):\n",
    "            k_ind_matrix = self.find_kneighbors(X, False)\n",
    "            k_y = self.y[k_ind_matrix]\n",
    "            result_matrix = np.empty(np.size(X, 0))\n",
    "            for j in range(np.size(X, 0)):\n",
    "                result_matrix[j] = np.argmax(np.bincount(k_y[j]))\n",
    "            return result_matrix\n",
    "        else:\n",
    "            distance_matrix, k_ind_matrix = self.find_kneighbors(X, True)\n",
    "            k_y = self.y[k_ind_matrix]\n",
    "            result_matrix = np.empty(np.size(X, 0))\n",
    "            for j in range(np.size(X, 0)):\n",
    "                result_matrix[j] = np.argmax(\n",
    "                        np.bincount(\n",
    "                                k_y[j],\n",
    "                                weights=1 / (distance_matrix[j] + 1e-5)\n",
    "                                )\n",
    "                        )\n",
    "            return result_matrix\n"
   ]
  },
  {
   "cell_type": "code",
   "execution_count": 5,
   "metadata": {},
   "outputs": [],
   "source": [
    "def kfold(n, n_folds):\n",
    "    ind_array = np.arange(n)\n",
    "    np.random.shuffle(ind_array)\n",
    "    fold_size = n // n_folds\n",
    "    left = n - fold_size * n_folds\n",
    "    folds_list = list()\n",
    "    for i in range(left):\n",
    "        beg_ind = (fold_size + 1) * i\n",
    "        end_ind = (fold_size + 1) * (i + 1)\n",
    "        folds_list.append((\n",
    "                np.hstack((ind_array[:beg_ind], ind_array[end_ind:])),\n",
    "                ind_array[beg_ind: end_ind]))\n",
    "    for i in range(n_folds - left):\n",
    "        beg_ind = (fold_size + 1) * left + fold_size * i\n",
    "        end_ind = (fold_size + 1) * left + fold_size * (i + 1)\n",
    "        folds_list.append((\n",
    "                np.hstack((ind_array[:beg_ind], ind_array[end_ind:])),\n",
    "                ind_array[beg_ind: end_ind]))\n",
    "    return folds_list\n",
    "\n",
    "\n",
    "def knn_cross_val_score(X, y, k_list, score, cv, **kwargs):\n",
    "    if (cv is None):\n",
    "        cv = kfold(np.size(X, 0), 3)\n",
    "    score_dict = dict()\n",
    "    curr_ind = list()\n",
    "    weight_flag = kwargs['weights']\n",
    "    if(weight_flag):\n",
    "        curr_weights = list()\n",
    "    curr_score = np.empty(len(cv))\n",
    "    for j in range(len(cv)):\n",
    "        classifier = KNNClassifier(k_list[len(k_list) - 1], **kwargs)\n",
    "        classifier.fit(X[cv[j][0]], y[cv[j][0]])\n",
    "        y_knn = classifier.predict(X[cv[j][1]])\n",
    "        if(weight_flag):\n",
    "            curr_w, curr_i = classifier.find_kneighbors(X[cv[j][1]], True)\n",
    "            curr_weights.append(curr_w)\n",
    "            curr_ind.append(curr_i)\n",
    "        else:\n",
    "            curr_i = classifier.find_kneighbors(X[cv[j][1]], False)\n",
    "            curr_ind.append(curr_i)\n",
    "        if(score == 'accuracy'):\n",
    "            num_diff = np.sum(y_knn == y[cv[j][1]])\n",
    "            curr_score[j] = num_diff / np.size(y_knn)\n",
    "    score_dict[k_list[len(k_list) - 1]] = curr_score\n",
    "    for i in range(len(k_list) - 2, -1, -1):\n",
    "        k_diff = k_list[i + 1] - k_list[i]\n",
    "        curr_score = np.empty(len(cv))\n",
    "        for j in range(len(cv)):\n",
    "            curr_ind[j] = curr_ind[j][:, :-k_diff]\n",
    "            if(weight_flag):\n",
    "                curr_weights[j] = curr_weights[j][:, :-k_diff]\n",
    "                y_ind = y[cv[j][0]][curr_ind[j]]\n",
    "                y_knn = np.empty(np.size(y_ind, 0))\n",
    "                for k in range(np.size(y_ind, 0)):\n",
    "                    y_knn[k] = np.argmax(\n",
    "                            np.bincount(\n",
    "                                    y_ind[k],\n",
    "                                    weights=1 / (curr_weights[j][k] + 1e-5)\n",
    "                                    )\n",
    "                            )\n",
    "            else:\n",
    "                y_ind = y[cv[j][0]][curr_ind[j]]\n",
    "                y_knn = np.empty(np.size(y_ind, 0))\n",
    "                for k in range(np.size(y_ind, 0)):\n",
    "                    y_knn[k] = np.argmax(np.bincount(y_ind[k]))\n",
    "            if(score == 'accuracy'):\n",
    "                num_diff = np.sum(y_knn == y[cv[j][1]])\n",
    "                curr_score[j] = num_diff / np.size(y_knn)\n",
    "        score_dict[k_list[i]] = curr_score\n",
    "    return score_dict"
   ]
  },
  {
   "cell_type": "code",
   "execution_count": 6,
   "metadata": {},
   "outputs": [],
   "source": [
    "mnist = fetch_mldata(\"MNIST original\")\n",
    "X = mnist.data # np.array размера (70000, 784)\n",
    "y = mnist.target.astype('int64') # np.array размера (70000,)\n",
    "X_train = X[:60000]\n",
    "X_test = X[60000:]\n",
    "y_train = y[:60000]\n",
    "y_test = y[60000:]"
   ]
  },
  {
   "cell_type": "markdown",
   "metadata": {},
   "source": [
    "Тест №1"
   ]
  },
  {
   "cell_type": "code",
   "execution_count": null,
   "metadata": {},
   "outputs": [],
   "source": [
    "#сформируем подмножества признаков нужного размера\n",
    "feature_ind = np.arange(np.size(X, 0))\n",
    "ind_10 = feature_ind[:10]\n",
    "ind_20 = feature_ind[:20]\n",
    "ind_100 = feature_ind[:100]\n",
    "ind_list = [ind_10, ind_20 , ind_100]\n",
    "strategy_list = ['my_own', 'brute', 'kd_tree', 'ball_tree']\n",
    "for ind in ind_list:\n",
    "    print('number of features:', np.size(ind))\n",
    "    for strat in strategy_list:\n",
    "        print(strat)\n",
    "        knn = KNNClassifier(k=5, strategy=strat, metric='euclidean', weights=False, test_block_size=1000)\n",
    "        knn.fit(X_train[:, ind], y_train)\n",
    "        %time knn.predict(X_test[:, ind])"
   ]
  },
  {
   "cell_type": "code",
   "execution_count": 31,
   "metadata": {},
   "outputs": [
    {
     "data": {
      "image/png": "[encoded data removed]",
      "text/plain": [
       "<Figure size 432x288 with 1 Axes>"
      ]
     },
     "metadata": {
      "needs_background": "light"
     },
     "output_type": "display_data"
    }
   ],
   "source": [
    "time_my_own = np.array([25.7, 30.5, 93])\n",
    "time_brute = np.array([8.88, 8.96, 10.3])\n",
    "time_kd = np.array([10.1, 18.3, 91])\n",
    "time_ball = np.array([7.77, 14.2, 75])\n",
    "fig, ax = plt.subplots()\n",
    "index = np.array([1, 2, 3])\n",
    "bar_width = 0.1\n",
    "\n",
    "rects1 = ax.bar(index, time_my_own, bar_width, color='r', label='my_own')\n",
    "rects2 = ax.bar(index + bar_width, time_kd, bar_width, color='g', label='kd tree')\n",
    "rects3 = ax.bar(index + 2 * bar_width, time_ball, bar_width, color='y', label='ball tree')\n",
    "rects4 = ax.bar(index + 3 * bar_width, time_brute, bar_width, color='b', label='brute') \n",
    "ax.set_xticks(index + bar_width * 1.5)\n",
    "ax.set_xticklabels((10, 20, 100))\n",
    "ax.set_xlabel('number of features')\n",
    "ax.set_yticks(np.arange(10, 100, 10))\n",
    "ax.set_ylabel('wall time, s')\n",
    "ax.set_title('running time of algorithms depending on number of features')\n",
    "ax.legend()\n",
    "fig.savefig('img1.pdf')"
   ]
  },
  {
   "cell_type": "code",
   "execution_count": 33,
   "metadata": {},
   "outputs": [
    {
     "name": "stdout",
     "output_type": "stream",
     "text": [
      "{10: array([0.96588669, 0.96635666, 0.96528522]), 9: array([0.96661524, 0.96695667, 0.96554236]), 8: array([0.96652953, 0.9679424 , 0.9663138 ]), 7: array([0.96755807, 0.96837098, 0.96691381]), 6: array([0.96755807, 0.96892813, 0.96729953]), 5: array([0.96961515, 0.96897099, 0.96858527]), 4: array([0.96910088, 0.96909956, 0.96849955]), 3: array([0.97025799, 0.96999957, 0.97055672]), 2: array([0.96455816, 0.96459949, 0.96404234]), 1: array([0.97081512, 0.96978528, 0.96879955])}\n"
     ]
    }
   ],
   "source": [
    "k_list = [i for i in range(1, 11)]\n",
    "arg_dict = dict()\n",
    "arg_dict['strategy'] = 'brute'\n",
    "arg_dict['metric'] = 'euclidean'\n",
    "arg_dict['weights'] = False\n",
    "arg_dict['test_block_size'] = 1000\n",
    "result_dict = knn_cross_val_score(X, y, k_list, score='accuracy', cv=None, **arg_dict)\n",
    "print(result_dict)"
   ]
  },
  {
   "cell_type": "code",
   "execution_count": 37,
   "metadata": {},
   "outputs": [
    {
     "data": {
      "image/png": "[encoded data removed]",
      "text/plain": [
       "<Figure size 432x288 with 1 Axes>"
      ]
     },
     "metadata": {
      "needs_background": "light"
     },
     "output_type": "display_data"
    }
   ],
   "source": [
    "copy_result_dict = result_dict.copy()\n",
    "for key in copy_result_dict:\n",
    "    copy_result_dict[key] = copy_result_dict[key].mean()\n",
    "copy_result_dict\n",
    "k_arr = np.arange(1, 11)\n",
    "acc_list = list()\n",
    "for k in k_arr:\n",
    "    acc_list.append(copy_result_dict[k])\n",
    "acc_arr = np.array(acc_list)\n",
    "plt.plot(k_arr, acc_arr)\n",
    "plt.grid()\n",
    "plt.xticks(k_list)\n",
    "plt.xlabel('parameter value')\n",
    "plt.ylabel('accuracy')\n",
    "plt.title('accuracy depending on parameter value')\n",
    "plt.savefig('img3.pdf')"
   ]
  },
  {
   "cell_type": "markdown",
   "metadata": {},
   "source": [
    "Для k=3 проведем сравнение использования разных метрик (по времени и по точности)"
   ]
  },
  {
   "cell_type": "code",
   "execution_count": 7,
   "metadata": {},
   "outputs": [
    {
     "name": "stdout",
     "output_type": "stream",
     "text": [
      "euclidean\n",
      "CPU times: user 7min 11s, sys: 48.6 s, total: 8min\n",
      "Wall time: 4min 50s\n",
      "{3: array([0.97025799, 0.97141388, 0.97077101]), 2: array([0.96460101, 0.9648995 , 0.96447092]), 1: array([0.97068655, 0.97047101, 0.97038529])}\n",
      "cosine\n",
      "CPU times: user 8min 11s, sys: 1min 25s, total: 9min 36s\n",
      "Wall time: 5min 22s\n",
      "{3: array([0.9754007 , 0.97317105, 0.9751425 ]), 2: array([0.9714151 , 0.97021386, 0.97089958]), 1: array([0.97411503, 0.97364248, 0.97501393])}\n"
     ]
    }
   ],
   "source": [
    "arg_dict = dict()\n",
    "arg_dict['strategy'] = 'brute'\n",
    "arg_dict['weights'] = False\n",
    "arg_dict['test_block_size'] = 1000\n",
    "print('euclidean')\n",
    "arg_dict['metric'] = 'euclidean'\n",
    "%time result_dict_eucl = knn_cross_val_score(X, y, [1, 2, 3], score='accuracy', cv=None, **arg_dict)\n",
    "print(result_dict_eucl)\n",
    "print('cosine')\n",
    "arg_dict['metric'] = 'cosine'\n",
    "%time result_dict_cosine = knn_cross_val_score(X, y, [1, 2, 3], score='accuracy', cv=None, **arg_dict)\n",
    "print(result_dict_cosine)"
   ]
  },
  {
   "cell_type": "code",
   "execution_count": 11,
   "metadata": {},
   "outputs": [
    {
     "data": {
      "image/png": "[encoded data removed]",
      "text/plain": [
       "<Figure size 432x288 with 1 Axes>"
      ]
     },
     "metadata": {
      "needs_background": "light"
     },
     "output_type": "display_data"
    }
   ],
   "source": [
    "k_arr = np.array([1, 2, 3])\n",
    "eucl_arr = np.empty((3))\n",
    "eucl_arr[0] = result_dict_eucl[1].mean()\n",
    "eucl_arr[1] = result_dict_eucl[2].mean()\n",
    "eucl_arr[2] = result_dict_eucl[3].mean()\n",
    "cosine_arr = np.empty((3))\n",
    "cosine_arr[0] = result_dict_cosine[1].mean()\n",
    "cosine_arr[1] = result_dict_cosine[2].mean()\n",
    "cosine_arr[2] = result_dict_cosine[3].mean()\n",
    "fig, ax = plt.subplots()\n",
    "bar_width = 0.5\n",
    "ax.plot(k_arr, eucl_arr, color='b', label='euclidean')\n",
    "ax.plot(k_arr, cosine_arr, color='r', label='cosine')\n",
    "plt.xticks([1, 2, 3])\n",
    "plt.legend()\n",
    "plt.xlabel('k value')\n",
    "plt.ylabel('accuracy')\n",
    "plt.title('accuracy of algorithms using different metrics')\n",
    "plt.grid()\n",
    "plt.savefig('img4.pdf')"
   ]
  },
  {
   "cell_type": "code",
   "execution_count": null,
   "metadata": {},
   "outputs": [],
   "source": [
    "feature_ind = np.arange(np.size(X, 0))\n",
    "ind_10 = feature_ind[:10]   \n",
    "knn = KNNClassifier(k=5, strategy='my_own', metric='euclidean', weights=False, test_block_size=1000)\n",
    "knn.fit(X_train[:, ind_10], y_train)\n",
    "%timeit knn.predict(X_test[:, ind_10])"
   ]
  },
  {
   "cell_type": "code",
   "execution_count": 23,
   "metadata": {
    "scrolled": true
   },
   "outputs": [
    {
     "name": "stdout",
     "output_type": "stream",
     "text": [
      "number of features: 3\n",
      "my_own\n",
      "CPU times: user 18.8 s, sys: 4.29 s, total: 23.1 s\n",
      "Wall time: 23.4 s\n",
      "brute\n",
      "CPU times: user 9.21 s, sys: 3.22 s, total: 12.4 s\n",
      "Wall time: 8.96 s\n",
      "kd_tree\n",
      "CPU times: user 4.42 s, sys: 0 ns, total: 4.42 s\n",
      "Wall time: 4.42 s\n",
      "ball_tree\n",
      "CPU times: user 3.84 s, sys: 0 ns, total: 3.84 s\n",
      "Wall time: 3.84 s\n",
      "number of features: 5\n",
      "my_own\n",
      "CPU times: user 19.5 s, sys: 4.32 s, total: 23.8 s\n",
      "Wall time: 23.8 s\n",
      "brute\n",
      "CPU times: user 9.14 s, sys: 3.25 s, total: 12.4 s\n",
      "Wall time: 8.95 s\n",
      "kd_tree\n",
      "CPU times: user 6.15 s, sys: 0 ns, total: 6.15 s\n",
      "Wall time: 6.15 s\n",
      "ball_tree\n",
      "CPU times: user 5.1 s, sys: 0 ns, total: 5.1 s\n",
      "Wall time: 5.1 s\n",
      "number of features: 7\n",
      "my_own\n",
      "CPU times: user 20.2 s, sys: 4.2 s, total: 24.4 s\n",
      "Wall time: 24.4 s\n",
      "brute\n",
      "CPU times: user 9.36 s, sys: 3.08 s, total: 12.4 s\n",
      "Wall time: 8.97 s\n",
      "kd_tree\n",
      "CPU times: user 7.78 s, sys: 0 ns, total: 7.78 s\n",
      "Wall time: 7.78 s\n",
      "ball_tree\n",
      "CPU times: user 6.39 s, sys: 43 µs, total: 6.39 s\n",
      "Wall time: 6.61 s\n",
      "number of features: 9\n",
      "my_own\n",
      "CPU times: user 21.1 s, sys: 4.18 s, total: 25.3 s\n",
      "Wall time: 25.3 s\n",
      "brute\n",
      "CPU times: user 9.28 s, sys: 3.16 s, total: 12.4 s\n",
      "Wall time: 8.97 s\n",
      "kd_tree\n",
      "CPU times: user 9.07 s, sys: 0 ns, total: 9.07 s\n",
      "Wall time: 9.07 s\n",
      "ball_tree\n",
      "CPU times: user 7.24 s, sys: 0 ns, total: 7.24 s\n",
      "Wall time: 7.23 s\n"
     ]
    }
   ],
   "source": [
    "feature_ind = np.arange(np.size(X, 0))\n",
    "ind_3 = feature_ind[:3]\n",
    "ind_5 = feature_ind[:5]\n",
    "ind_7 = feature_ind[:7]\n",
    "ind_9 = feature_ind[:9]\n",
    "ind_list = [ind_3, ind_5, ind_7, ind_9]\n",
    "strategy_list = ['my_own', 'brute', 'kd_tree', 'ball_tree']\n",
    "for ind in ind_list:\n",
    "    print('number of features:', np.size(ind))\n",
    "    for strat in strategy_list:\n",
    "        print(strat)\n",
    "        knn = KNNClassifier(k=5, strategy=strat, metric='euclidean', weights=False, test_block_size=1000)\n",
    "        knn.fit(X_train[:, ind], y_train)\n",
    "        %time knn.predict(X_test[:, ind])"
   ]
  },
  {
   "cell_type": "code",
   "execution_count": 30,
   "metadata": {},
   "outputs": [
    {
     "data": {
      "image/png": "[encoded data removed]",
      "text/plain": [
       "<Figure size 432x288 with 1 Axes>"
      ]
     },
     "metadata": {
      "needs_background": "light"
     },
     "output_type": "display_data"
    }
   ],
   "source": [
    "time_my_own = np.array([23.4, 23.8, 24.4, 25.3])\n",
    "time_brute = np.array([8.96, 8.95, 8.97, 8.97])\n",
    "time_kd = np.array([4.42, 6.15, 7.78, 9.07])\n",
    "time_ball = np.array([3.84, 5.1, 6.61, 7.23])\n",
    "fig, ax = plt.subplots()\n",
    "index = np.array([3, 5, 7, 9])\n",
    "\n",
    "rects1 = ax.plot(index, time_my_own, color='r', label='my_own')\n",
    "rects2 = ax.plot(index, time_kd, color='g', label='kd tree')\n",
    "rects3 = ax.plot(index, time_ball, color='y', label='ball tree')\n",
    "rects4 = ax.plot(index, time_brute, color='b', label='brute') \n",
    "ax.set_xticks([3, 5, 7, 9])\n",
    "ax.set_xlabel('number of features')\n",
    "ax.set_ylabel('wall time, s')\n",
    "ax.set_title('running time of algorithms with small number of features')\n",
    "ax.legend()\n",
    "ax.grid()\n",
    "fig.savefig('img2.pdf')"
   ]
  },
  {
   "cell_type": "code",
   "execution_count": 22,
   "metadata": {},
   "outputs": [
    {
     "name": "stdout",
     "output_type": "stream",
     "text": [
      "my_own\n",
      "CPU times: user 21.6 s, sys: 4.4 s, total: 26 s\n",
      "Wall time: 26 s\n",
      "brute\n",
      "CPU times: user 10 s, sys: 3.37 s, total: 13.4 s\n",
      "Wall time: 9.8 s\n",
      "kd_tree\n",
      "CPU times: user 11.3 s, sys: 6.18 ms, total: 11.3 s\n",
      "Wall time: 11.3 s\n",
      "ball_tree\n",
      "CPU times: user 8.2 s, sys: 0 ns, total: 8.2 s\n",
      "Wall time: 8.28 s\n"
     ]
    }
   ],
   "source": [
    "feature_ind = np.arange(np.size(X, 0))\n",
    "ind = feature_ind[:10]\n",
    "strategy_list = ['my_own', 'brute', 'kd_tree', 'ball_tree']\n",
    "for strat in strategy_list:\n",
    "    print(strat)\n",
    "    knn = KNNClassifier(k=5, strategy=strat, metric='euclidean', weights=False, test_block_size=1000)        \n",
    "    knn.fit(X_train[:, ind], y_train)\n",
    "    %time knn.predict(X_test[:, ind])"
   ]
  },
  {
   "cell_type": "code",
   "execution_count": 54,
   "metadata": {},
   "outputs": [
    {
     "name": "stdout",
     "output_type": "stream",
     "text": [
      "weighted\n",
      "CPU times: user 5min 37s, sys: 59.3 s, total: 6min 37s\n",
      "Wall time: 3min 37s\n",
      "{3: array([0.97365, 0.9759 , 0.9744 ])}\n",
      "not weighted\n",
      "CPU times: user 5min 37s, sys: 57.6 s, total: 6min 35s\n",
      "Wall time: 3min 36s\n"
     ]
    }
   ],
   "source": [
    "arg_dict = dict()\n",
    "arg_dict['strategy'] = 'brute'\n",
    "arg_dict['test_block_size'] = 1000\n",
    "arg_dict['metric'] = 'cosine'\n",
    "print('weighted')\n",
    "arg_dict['weights'] = True\n",
    "cv = kfold(60000, 3)\n",
    "%time result_dict_w = knn_cross_val_score(X, y, [3], score='accuracy', cv=cv, **arg_dict)\n",
    "print(result_dict_eucl)\n",
    "print('not weighted')\n",
    "arg_dict['weights'] = False\n",
    "%time result_dict_nw = knn_cross_val_score(X, y, [3], score='accuracy', cv=cv, **arg_dict)\n"
   ]
  },
  {
   "cell_type": "code",
   "execution_count": 58,
   "metadata": {},
   "outputs": [
    {
     "name": "stdout",
     "output_type": "stream",
     "text": [
      "0.9739166666666667\n",
      "0.9747166666666667\n"
     ]
    }
   ],
   "source": [
    "print(result_dict_nw[3].mean())\n",
    "print(result_dict_w[3].mean())\n"
   ]
  },
  {
   "cell_type": "code",
   "execution_count": 242,
   "metadata": {},
   "outputs": [],
   "source": [
    "knn = KNNClassifier(k=3, strategy='brute', metric='cosine', weights=True, test_block_size=1000)\n",
    "knn.fit(X_train, y_train)\n",
    "y_pred = knn.predict(X_test)"
   ]
  },
  {
   "cell_type": "code",
   "execution_count": 159,
   "metadata": {},
   "outputs": [],
   "source": [
    "acc = np.sum(y_pred == y_test) / np.size(y_test, 0)\n",
    "acc"
   ]
  },
  {
   "cell_type": "code",
   "execution_count": 161,
   "metadata": {},
   "outputs": [],
   "source": [
    "from sklearn.metrics import confusion_matrix\n",
    "conf_bold = confusion_matrix(y_test, y_pred)\n"
   ]
  },
  {
   "cell_type": "code",
   "execution_count": 60,
   "metadata": {
    "scrolled": true
   },
   "outputs": [
    {
     "data": {
      "image/png": "[encoded data removed]",
      "text/plain": [
       "<Figure size 432x288 with 9 Axes>"
      ]
     },
     "metadata": {
      "needs_background": "light"
     },
     "output_type": "display_data"
    }
   ],
   "source": [
    "y_ind = np.arange(10000)\n",
    "i_arr = np.arange(10)\n",
    "i = 9\n",
    "test = y_test != i\n",
    "pred = y_pred == i\n",
    "curr = test * pred\n",
    "i_rec = y_ind[curr]\n",
    "z = np.arange(np.size(i_rec))\n",
    "np.random.shuffle(z)\n",
    "i_rec_9 = i_rec[z[:10]]\n",
    "fig = plt.figure()\n",
    "for j in range(1, 10):\n",
    "    ax = fig.add_subplot(3, 3, j)\n",
    "    plt.imshow(X_test[i_rec_9[j]].reshape(28, 28), cmap=\"Greys\")\n",
    "    plt.axis('off')\n",
    "fig.suptitle('predicted as 9')\n",
    "plt.savefig('img09.pdf')"
   ]
  },
  {
   "cell_type": "markdown",
   "metadata": {},
   "source": [
    "Эксперимент №5. Кросс-валидация."
   ]
  },
  {
   "cell_type": "code",
   "execution_count": 11,
   "metadata": {},
   "outputs": [],
   "source": [
    "cv = kfold(np.size(X_train, 0), 3)"
   ]
  },
  {
   "cell_type": "code",
   "execution_count": 64,
   "metadata": {},
   "outputs": [],
   "source": [
    "i_list_rot = list()\n",
    "d_list_rot = list()\n",
    "\n",
    "rot_list = [-10, 10]\n",
    "for rot in rot_list:\n",
    "    curr_d_list = list()\n",
    "    curr_i_list = list()\n",
    "    for j in range(len(cv)):\n",
    "        X_tr = X_train[cv[j][0]]\n",
    "        y_tr = y_train[cv[j][0]]\n",
    "        X_tst = X_train[cv[j][1]]\n",
    "        y_tst = y_train[cv[j][1]]\n",
    "        new_X = np.empty(np.shape(X_tr))\n",
    "        for i in range(np.size(X_tr, 0)):\n",
    "            img = X_tr[i].reshape(28, 28)\n",
    "            new_img = rotate(img, rot)\n",
    "            new_X[i] = new_img.flatten()\n",
    "        knn = KNNClassifier(k=3, strategy='brute', metric='cosine', weights=True, test_block_size=1000)\n",
    "        knn.fit(new_X, y_tr)\n",
    "        d, i = knn.find_kneighbors(X_tst, True)\n",
    "        curr_i_list.append(i)\n",
    "        curr_d_list.append(d)\n",
    "    i_list_rot.apend(curr_i_list.copy())\n",
    "    d_list_rot.append(curr_d_list.copy())"
   ]
  },
  {
   "cell_type": "code",
   "execution_count": null,
   "metadata": {},
   "outputs": [],
   "source": [
    "i_list_0 = list()\n",
    "d_list_0 = list()\n",
    "\n",
    "for j in range(len(cv)):\n",
    "    X_tr = X_train[cv[j][0]]\n",
    "    y_tr = y_train[cv[j][0]]\n",
    "    X_tst = X_train[cv[j][1]]\n",
    "    y_tst = y_train[cv[j][1]]\n",
    "    knn = KNNClassifier(k=3, strategy='brute', metric='cosine', weights=True, test_block_size=1000)\n",
    "    knn.fit(X_tr, y_tr)\n",
    "    d, i = knn.find_kneighbors(X_tst, True)\n",
    "    i_list_0.append(i)\n",
    "    d_list_0.append(d)"
   ]
  },
  {
   "cell_type": "code",
   "execution_count": 69,
   "metadata": {},
   "outputs": [],
   "source": [
    "from scipy.ndimage import shift\n",
    "\n",
    "d_list_sh = list()\n",
    "i_list_sh = list()\n",
    "\n",
    "sh_list = [[1, 0], [-1, 0], [0, 1], [0, -1]]\n",
    "\n",
    "for i in sh_list:\n",
    "    curr_d_list = list()\n",
    "    curr_i_list = list()\n",
    "    for j in range(len(cv)):\n",
    "        X_tr = X_train[cv[j][0]]\n",
    "        y_tr = y_train[cv[j][0]]\n",
    "        X_tst = X_train[cv[j][1]]\n",
    "        y_tst = y_train[cv[j][1]]\n",
    "        new_X = np.empty(np.shape(X_tr))\n",
    "        for i in range(np.size(X_tr, 0)):\n",
    "            img = X_tr[i].reshape(28, 28)\n",
    "            new_img = shift(img, [1, 0])\n",
    "            new_X[i] = new_img.flatten()\n",
    "        knn = KNNClassifier(k=3, strategy='brute', metric='cosine', weights=True, test_block_size=1000)\n",
    "        knn.fit(new_X, y_tr)\n",
    "        d, i = knn.find_kneighbors(X_tst, True)\n",
    "        curr_i_list.append(i)\n",
    "        curr_d_list.append(d)\n",
    "    d_list_sh.append(curr_d_list.copy())\n",
    "    i_list_sh.append(curr_i_list.copy())"
   ]
  },
  {
   "cell_type": "code",
   "execution_count": 57,
   "metadata": {},
   "outputs": [],
   "source": [
    "from scipy.ndimage.filters import gaussian_filter\n",
    "\n",
    "i_list_gauss = list()\n",
    "d_list_gauss = list()\n",
    "\n",
    "for j in range(len(cv)):\n",
    "    X_tr = X_train[cv[j][0]]\n",
    "    y_tr = y_train[cv[j][0]]\n",
    "    X_tst = X_train[cv[j][1]]\n",
    "    y_tst = y_train[cv[j][1]]\n",
    "    new_X = np.empty(np.shape(X_tr))\n",
    "    for i in range(np.size(X_tr, 0)):\n",
    "        img = X_tr[i].reshape(28, 28)\n",
    "        new_img = gaussian_filter(img, sigma=1)\n",
    "        new_X[i] = new_img.flatten()\n",
    "    knn = KNNClassifier(k=3, strategy='brute', metric='cosine', weights=True, test_block_size=1000)\n",
    "    knn.fit(new_X, y_tr)\n",
    "    d, i = knn.find_kneighbors(X_tst, True)\n",
    "    i_list_gauss.append(i)\n",
    "    d_list_gauss.append(d)"
   ]
  },
  {
   "cell_type": "code",
   "execution_count": 78,
   "metadata": {},
   "outputs": [],
   "source": [
    "full_list_i = list()\n",
    "full_list_d = list()\n",
    "\n",
    "sh_list = [[1, 0], [-1, 0], [0, 1], [0, -1]]\n",
    "rot_list = [-10, 10]\n",
    "for sh in sh_list:\n",
    "    for rot in rot_list:\n",
    "        curr_list_d = list()\n",
    "        curr_list_i = list()\n",
    "        for j in range(len(cv)):\n",
    "            X_tr = X_train[cv[j][0]]\n",
    "            y_tr = y_train[cv[j][0]]\n",
    "            X_tst = X_train[cv[j][1]]\n",
    "            y_tst = y_train[cv[j][1]]\n",
    "            new_X = np.empty(np.shape(X_tr))\n",
    "            for i in range(np.size(X_tr, 0)):\n",
    "                img = X_tr[i].reshape(28, 28)\n",
    "                new_img = shift(img, sh)\n",
    "                new_img = rotate(new_img, rot)\n",
    "                new_img = gaussian_filter(new_img, sigma=1)\n",
    "                new_X[i] = new_img.flatten()\n",
    "            knn = KNNClassifier(k=3, strategy='brute', metric='cosine', weights=True, test_block_size=1000)\n",
    "            knn.fit(new_X, y_tr)\n",
    "            d, i = knn.find_kneighbors(X_tst, True)\n",
    "            curr_list_i.append(i)\n",
    "            curr_list_d.append(d)\n",
    "        full_list_i.append(curr_list_i.copy())\n",
    "        full_list_d.append(curr_list_d.copy())"
   ]
  },
  {
   "cell_type": "code",
   "execution_count": 83,
   "metadata": {},
   "outputs": [],
   "source": [
    "k = 3\n",
    "rez_list = list()\n",
    "for j in range(len(cv)):\n",
    "    X_tr = X_train[cv[j][0]]\n",
    "    y_tr = y_train[cv[j][0]]\n",
    "    X_tst = X_train[cv[j][1]]\n",
    "    y_tst = y_train[cv[j][1]]\n",
    "    d_list = list()\n",
    "    i_list = list()\n",
    "    for el_d in full_list_d:\n",
    "        d_list.append(el_d[j])\n",
    "    for el_i in full_list_i:\n",
    "        i_list.append(el_i[j])\n",
    "    d_list.append(d_list_0[j])\n",
    "    i_list.append(i_list_0[j])\n",
    "    d_list.append(d_list_gauss[j])\n",
    "    i_list.append(i_list_gauss[j])\n",
    "    d_matr = np.concatenate(d_list, axis=1)\n",
    "    i_matr = np.concatenate(i_list, axis=1)\n",
    "    global_ind_matrix = np.argsort(d_matr, axis=1)[:, :k]\n",
    "    y_ind_matrix = i_matr[\n",
    "        np.arange(np.size(global_ind_matrix, 0))[:, np.newaxis],\n",
    "        global_ind_matrix]\n",
    "    y_dist_matrix = d_matr[\n",
    "        np.arange(np.size(global_ind_matrix, 0))[:, np.newaxis],\n",
    "        global_ind_matrix]\n",
    "    k_y = y_tr[y_ind_matrix]\n",
    "    y_pred = np.zeros(np.size(X_tst, 0))\n",
    "    for i in range(np.size(X_tst, 0)):\n",
    "        y_pred[i] = np.argmax(\n",
    "                np.bincount(\n",
    "                        k_y[i],\n",
    "                        weights=1 / (y_dist_matrix[i] + 1e-5)\n",
    "                        )\n",
    "                )\n",
    "    acc = np.sum(y_pred == y_tst) / np.size(y_tst, 0)\n",
    "    rez_list.append(acc)"
   ]
  },
  {
   "cell_type": "code",
   "execution_count": 84,
   "metadata": {},
   "outputs": [
    {
     "data": {
      "text/plain": [
       "0.98545"
      ]
     },
     "execution_count": 84,
     "metadata": {},
     "output_type": "execute_result"
    }
   ],
   "source": [
    "np.array(rez_list).mean()"
   ]
  },
  {
   "cell_type": "code",
   "execution_count": 47,
   "metadata": {},
   "outputs": [],
   "source": [
    "from skimage.transform import rotate\n",
    "\n",
    "rot_list_d_5 = list()\n",
    "rot_list_i_5 = list()\n",
    "rot_list = [-10, 10]\n",
    "for rot in rot_list:\n",
    "    new_X = np.empty(np.shape(X_train))\n",
    "    for i in range(np.size(X_train, 0)):\n",
    "        img = X_train[i].reshape(28, 28)\n",
    "        new_img = rotate(img, rot)\n",
    "        new_X[i] = new_img.flatten()\n",
    "    knn = KNNClassifier(k=3, strategy='brute', metric='cosine', weights=True, test_block_size=1000)\n",
    "    knn.fit(new_X, y_train)\n",
    "    d, i = knn.find_kneighbors(X_test, True)\n",
    "    rot_list_d_5.append(d)\n",
    "    rot_list_i_5.append(i)"
   ]
  },
  {
   "cell_type": "code",
   "execution_count": 118,
   "metadata": {},
   "outputs": [],
   "source": [
    "from scipy.ndimage import shift\n",
    "\n",
    "sh_list_d_5 = list()\n",
    "sh_list_i_5 = list()\n",
    "sh_list = [[1, 0], [-1, 0], [0, 1], [0, -1]]\n",
    "for sh in sh_list:\n",
    "    new_X = np.empty(np.shape(X_train))\n",
    "    for i in range(np.size(X_train, 0)):\n",
    "        img = X_train[i].reshape(28, 28)\n",
    "        new_img = shift(img, sh)\n",
    "        new_X[i] = new_img.flatten()\n",
    "    knn = KNNClassifier(k=3, strategy='brute', metric='cosine', weights=True, test_block_size=1000)\n",
    "    knn.fit(new_X, y_train)\n",
    "    d, i = knn.find_kneighbors(X_test, True)\n",
    "    sh_list_d_5.append(d)\n",
    "    sh_list_i_5.append(i)"
   ]
  },
  {
   "cell_type": "code",
   "execution_count": 170,
   "metadata": {},
   "outputs": [],
   "source": [
    "new_X = np.empty(np.shape(X_train))\n",
    "for i in range(np.size(X_train, 0)):\n",
    "    img = X_train[i].reshape(28, 28)\n",
    "    new_img = gaussian_filter(img, sigma=1)\n",
    "    new_X[i] = new_img.flatten()\n",
    "knn = KNNClassifier(k=3, strategy='brute', metric='cosine', weights=True, test_block_size=1000)\n",
    "knn.fit(new_X, y_train)\n",
    "gauss_d_5, gauss_i_5 = knn.find_kneighbors(X_test, True)"
   ]
  },
  {
   "cell_type": "code",
   "execution_count": 34,
   "metadata": {},
   "outputs": [],
   "source": [
    "knn = KNNClassifier(k=3, strategy='brute', metric='cosine', weights=True, test_block_size=1000)\n",
    "knn.fit(X_train, y_train)\n",
    "d_0, i_0 = knn.find_kneighbors(X_test, True)"
   ]
  },
  {
   "cell_type": "code",
   "execution_count": 172,
   "metadata": {},
   "outputs": [],
   "source": [
    "k = 3\n",
    "d_list = list()\n",
    "i_list = list()\n",
    "d_list.append(gauss_d_5)\n",
    "d_list.append(d_0)\n",
    "i_list.append(gauss_i_5)\n",
    "i_list.append(i_0)\n",
    "d_matr = np.concatenate(d_list, axis=1)\n",
    "i_matr = np.concatenate(i_list, axis=1)\n",
    "global_ind_matrix = np.argsort(d_matr, axis=1)[:, :k]\n",
    "y_ind_matrix = i_matr[\n",
    "        np.arange(np.size(global_ind_matrix, 0))[:, np.newaxis],\n",
    "        global_ind_matrix]\n",
    "y_dist_matrix = d_matr[\n",
    "        np.arange(np.size(global_ind_matrix, 0))[:, np.newaxis],\n",
    "        global_ind_matrix]\n",
    "k_y = y_train[y_ind_matrix]\n",
    "result_matrix_5 = np.zeros(np.size(X_test, 0))\n",
    "for j in range(np.size(X_test, 0)):\n",
    "    result_matrix_5[j] = np.argmax(\n",
    "            np.bincount(\n",
    "                    k_y[j],\n",
    "                    weights=1 / (y_dist_matrix[j] + 1e-5)\n",
    "                    )\n",
    "            )"
   ]
  },
  {
   "cell_type": "code",
   "execution_count": 173,
   "metadata": {},
   "outputs": [
    {
     "data": {
      "text/plain": [
       "0.9805"
      ]
     },
     "execution_count": 173,
     "metadata": {},
     "output_type": "execute_result"
    }
   ],
   "source": [
    "np.sum(result_matrix_5 == y_test) / np.size(y_test)"
   ]
  },
  {
   "cell_type": "code",
   "execution_count": 179,
   "metadata": {},
   "outputs": [],
   "source": [
    "from sklearn.metrics import confusion_matrix\n",
    "conf_gauss_5 = confusion_matrix(y_test, result_matrix_5)"
   ]
  },
  {
   "cell_type": "code",
   "execution_count": 180,
   "metadata": {
    "scrolled": true
   },
   "outputs": [
    {
     "data": {
      "text/plain": [
       "array([[ 0,  0,  0,  0,  0,  1, -1,  0,  0,  0],\n",
       "       [ 0,  1,  0, -1,  0,  0,  0,  0,  0,  0],\n",
       "       [-1,  0, -5,  1, -1,  0,  2,  5, -1,  0],\n",
       "       [ 0, -1, -1, 12,  1, -5,  0, -1, -4, -1],\n",
       "       [-2, -2,  0,  0, 14,  0, -2,  1, -1, -8],\n",
       "       [-2,  1,  0, -1,  0, 10, -3,  0, -4, -1],\n",
       "       [ 0,  1,  0,  0, -1,  0,  0,  0,  0,  0],\n",
       "       [-1, -2, -1,  0,  2,  1,  1,  5,  0, -5],\n",
       "       [-3, -2, -1, -6, -1,  1, -2,  1, 13,  0],\n",
       "       [-5, -3, -2, -4,  2,  0,  0,  0, -1, 13]])"
      ]
     },
     "execution_count": 180,
     "metadata": {},
     "output_type": "execute_result"
    }
   ],
   "source": [
    "conf_gauss_5 - conf_bold"
   ]
  },
  {
   "cell_type": "code",
   "execution_count": 59,
   "metadata": {},
   "outputs": [
    {
     "data": {
      "text/plain": [
       "array([[ 977,    1,    0,    0,    0,    0,    1,    1,    0,    0],\n",
       "       [   0, 1132,    2,    0,    0,    0,    0,    1,    0,    0],\n",
       "       [   6,    2, 1009,    2,    1,    0,    0,   10,    2,    0],\n",
       "       [   0,    0,    1,  986,    1,    6,    0,    4,    8,    4],\n",
       "       [   1,    1,    1,    0,  949,    0,    5,    2,    0,   23],\n",
       "       [   2,    0,    0,    6,    1,  873,    3,    3,    2,    2],\n",
       "       [   2,    3,    0,    0,    0,    1,  951,    0,    1,    0],\n",
       "       [   2,    7,    3,    0,    0,    0,    0, 1008,    0,    8],\n",
       "       [   2,    0,    1,    7,    4,    2,    3,    3,  947,    5],\n",
       "       [   4,    4,    1,    6,    5,    1,    1,    6,    3,  978]])"
      ]
     },
     "execution_count": 59,
     "metadata": {},
     "output_type": "execute_result"
    }
   ],
   "source": [
    "conf_rot_5"
   ]
  },
  {
   "cell_type": "code",
   "execution_count": null,
   "metadata": {},
   "outputs": [],
   "source": [
    "y_ind = np.arange(10000)\n",
    "i_arr = np.arange(10)\n",
    "i = 4\n",
    "j = 9\n",
    "j_matr = y_pred == j\n",
    "curr = result_matrix == i\n",
    "i_matr = y_test == i\n",
    "i_rec = y_ind[curr * i_matr * j_matr]\n",
    "fig = plt.figure()\n",
    "for j in range(1, np.size(i_rec) + 1):\n",
    "    ax = fig.add_subplot(3, 3, j)\n",
    "    plt.imshow(X_test[i_rec[j - 1]].reshape(28, 28), cmap=\"Greys\")\n",
    "    plt.axis('off')\n",
    "fig.suptitle(' detected as ')\n",
    "fig.savefig('img10.pdf')"
   ]
  },
  {
   "cell_type": "markdown",
   "metadata": {},
   "source": [
    "Эксперимент №6.\n"
   ]
  },
  {
   "cell_type": "code",
   "execution_count": 95,
   "metadata": {},
   "outputs": [],
   "source": [
    "cv = kfold(np.size(X_train, 0), 3)"
   ]
  },
  {
   "cell_type": "code",
   "execution_count": 272,
   "metadata": {},
   "outputs": [],
   "source": [
    "i_list_0 = list()\n",
    "d_list_0 = list()\n",
    "\n",
    "for j in range(len(cv)):\n",
    "    X_tr = X_train[cv[j][0]]\n",
    "    y_tr = y_train[cv[j][0]]\n",
    "    X_tst = X_train[cv[j][1]]\n",
    "    y_tst = y_train[cv[j][1]]\n",
    "    knn = KNNClassifier(k=3, strategy='brute', metric='cosine', weights=True, test_block_size=1000)\n",
    "    knn.fit(X_tr, y_tr)\n",
    "    d, i = knn.find_kneighbors(X_tst, True)\n",
    "    i_list_0.append(i)\n",
    "    d_list_0.append(d)"
   ]
  },
  {
   "cell_type": "code",
   "execution_count": 266,
   "metadata": {},
   "outputs": [],
   "source": [
    "from skimage.transform import rotate\n",
    "\n",
    "list_rot_i = list()\n",
    "list_rot_d = list()\n",
    "\n",
    "rot_list = [-10, 10]\n",
    "for rot in rot_list:\n",
    "    curr_list_d = list()\n",
    "    curr_list_i = list()\n",
    "    for j in range(len(cv)):\n",
    "        X_tr = X_train[cv[j][0]]\n",
    "        y_tr = y_train[cv[j][0]]\n",
    "        X_tst = X_train[cv[j][1]]\n",
    "        y_tst = y_train[cv[j][1]]\n",
    "        new_X = np.empty(np.shape(X_tst))\n",
    "        for i in range(np.size(X_tst, 0)):\n",
    "            img = X_tst[i].reshape(28, 28)\n",
    "            new_img = rotate(img, rot)\n",
    "            new_X[i] = new_img.flatten()\n",
    "        knn = KNNClassifier(k=3, strategy='brute', metric='cosine', weights=True, test_block_size=1000)\n",
    "        knn.fit(X_tr, y_tr)\n",
    "        d, i = knn.find_kneighbors(new_X, True)\n",
    "        curr_list_i.append(i)\n",
    "        curr_list_d.append(d)\n",
    "    list_rot_i.append(curr_list_i.copy())\n",
    "    list_rot_d.append(curr_list_d.copy())"
   ]
  },
  {
   "cell_type": "code",
   "execution_count": 280,
   "metadata": {},
   "outputs": [],
   "source": [
    "from scipy.ndimage import shift\n",
    "\n",
    "list_sh_i = list()\n",
    "list_sh_d = list()\n",
    "\n",
    "shift_list = [[1, 0], [-1, 0], [0, 1], [0, -1]]\n",
    "for sh in shift_list:\n",
    "    curr_list_d = list()\n",
    "    curr_list_i = list()\n",
    "    for j in range(len(cv)):\n",
    "        X_tr = X_train[cv[j][0]]\n",
    "        y_tr = y_train[cv[j][0]]\n",
    "        X_tst = X_train[cv[j][1]]\n",
    "        y_tst = y_train[cv[j][1]]\n",
    "        new_X = np.empty(np.shape(X_tst))\n",
    "        for i in range(np.size(X_tst, 0)):\n",
    "            img = X_tst[i].reshape(28, 28)\n",
    "            new_img = shift(img, sh)\n",
    "            new_X[i] = new_img.flatten()\n",
    "        knn = KNNClassifier(k=3, strategy='brute', metric='cosine', weights=True, test_block_size=1000)\n",
    "        knn.fit(X_tr, y_tr)\n",
    "        d, i = knn.find_kneighbors(new_X, True)\n",
    "        curr_list_i.append(i)\n",
    "        curr_list_d.append(d)\n",
    "    list_sh_i.append(curr_list_i.copy())\n",
    "    list_sh_d.append(curr_list_d.copy())"
   ]
  },
  {
   "cell_type": "code",
   "execution_count": 137,
   "metadata": {},
   "outputs": [],
   "source": [
    "from scipy.ndimage.filters import gaussian_filter\n",
    "\n",
    "list_gauss_i = list()\n",
    "list_gauss_d = list()\n",
    "\n",
    "for j in range(len(cv)):\n",
    "    X_tr = X_train[cv[j][0]]\n",
    "    y_tr = y_train[cv[j][0]]\n",
    "    X_tst = X_train[cv[j][1]]\n",
    "    y_tst = y_train[cv[j][1]]\n",
    "    new_X = np.empty(np.shape(X_tst))\n",
    "    for i in range(np.size(X_tst, 0)):\n",
    "        img = X_tst[i].reshape(28, 28)\n",
    "        new_img = gaussian_filter(img, sigma=1)\n",
    "        new_X[i] = new_img.flatten()\n",
    "    knn = KNNClassifier(k=3, strategy='brute', metric='cosine', weights=True, test_block_size=1000)\n",
    "    knn.fit(X_tr, y_tr)\n",
    "    d, i = knn.find_kneighbors(new_X, True)\n",
    "    list_gauss_i.append(i)\n",
    "    list_gauss_d.append(d)"
   ]
  },
  {
   "cell_type": "code",
   "execution_count": 290,
   "metadata": {},
   "outputs": [],
   "source": [
    "from scipy.ndimage import shift\n",
    "from skimage.transform import rotate\n",
    "\n",
    "list_full_i = list()\n",
    "list_full_d = list()\n",
    "\n",
    "rot_list = [-10, 10]\n",
    "shift_list = [[1, 0], [-1, 0], [0, 1], [0, -1]]\n",
    "for sh in shift_list:\n",
    "    for rot in rot_list:\n",
    "        curr_list_d = list()\n",
    "        curr_list_i = list()\n",
    "        for j in range(len(cv)):\n",
    "            X_tr = X_train[cv[j][0]]\n",
    "            y_tr = y_train[cv[j][0]]\n",
    "            X_tst = X_train[cv[j][1]]\n",
    "            y_tst = y_train[cv[j][1]]\n",
    "            new_X = np.empty(np.shape(X_tst))\n",
    "            for i in range(np.size(X_tst, 0)):\n",
    "                img = X_tst[i].reshape(28, 28)\n",
    "                new_img = shift(img, sh)\n",
    "                new_img = rotate(new_img, rot)\n",
    "                new_X[i] = new_img.flatten()\n",
    "            knn = KNNClassifier(k=3, strategy='brute', metric='cosine', weights=True, test_block_size=1000)\n",
    "            knn.fit(X_tr, y_tr)\n",
    "            d, i = knn.find_kneighbors(new_X, True)\n",
    "            curr_list_i.append(i)\n",
    "            curr_list_d.append(d)\n",
    "        list_full_i.append(curr_list_i.copy())\n",
    "        list_full_d.append(curr_list_d.copy())"
   ]
  },
  {
   "cell_type": "code",
   "execution_count": 299,
   "metadata": {},
   "outputs": [],
   "source": [
    "k = 3\n",
    "rez_list = list()\n",
    "for j in range(len(cv)):\n",
    "    X_tr = X_train[cv[j][0]]\n",
    "    y_tr = y_train[cv[j][0]]\n",
    "    X_tst = X_train[cv[j][1]]\n",
    "    y_tst = y_train[cv[j][1]]\n",
    "    d_list = list()\n",
    "    i_list = list()\n",
    "    for el_d in list_full_d:\n",
    "        d_list.append(el_d[j])\n",
    "    for el_i in list_full_i:\n",
    "        i_list.append(el_i[j])\n",
    "    #for el_d in list_sh_d:\n",
    "        #d_list.append(el_d[j])\n",
    "    #for el_i in list_sh_i:\n",
    "        #i_list.append(el_i[j])\n",
    "    #for el_d in list_rot_d:\n",
    "        #d_list.append(el_d[j])\n",
    "    #for el_i in list_rot_i:\n",
    "        #i_list.append(el_i[j])\n",
    "    #d_list.append(list_gauss_d[j])\n",
    "    #i_list.append(list_gauss_i[j])\n",
    "    d_list.append(d_list_0[j])\n",
    "    i_list.append(i_list_0[j])\n",
    "    d_matr = np.concatenate(d_list, axis=1)\n",
    "    i_matr = np.concatenate(i_list, axis=1)\n",
    "    global_ind_matrix = np.argsort(d_matr, axis=1)[:, :k]\n",
    "    y_ind_matrix = i_matr[\n",
    "        np.arange(np.size(global_ind_matrix, 0))[:, np.newaxis],\n",
    "        global_ind_matrix]\n",
    "    y_dist_matrix = d_matr[\n",
    "        np.arange(np.size(global_ind_matrix, 0))[:, np.newaxis],\n",
    "        global_ind_matrix]\n",
    "    k_y = y_tr[y_ind_matrix]\n",
    "    y_pred = np.zeros(np.size(X_tst, 0))\n",
    "    for i in range(np.size(X_tst, 0)):\n",
    "        y_pred[i] = np.argmax(\n",
    "                np.bincount(\n",
    "                        k_y[i],\n",
    "                        weights=1 / (y_dist_matrix[i] + 1e-5)\n",
    "                        )\n",
    "                )\n",
    "    acc = np.sum(y_pred == y_tst) / np.size(y_tst, 0)\n",
    "    rez_list.append(acc)"
   ]
  },
  {
   "cell_type": "code",
   "execution_count": 298,
   "metadata": {},
   "outputs": [
    {
     "data": {
      "text/plain": [
       "0.9812333333333333"
      ]
     },
     "execution_count": 298,
     "metadata": {},
     "output_type": "execute_result"
    }
   ],
   "source": [
    "np.array(rez_list).mean()"
   ]
  },
  {
   "cell_type": "code",
   "execution_count": 8,
   "metadata": {},
   "outputs": [],
   "source": [
    "knn = KNNClassifier(k=3, strategy='brute', metric='cosine', weights=True, test_block_size=1000)\n",
    "knn.fit(X_train, y_train)\n",
    "d_0, i_0 = knn.find_kneighbors(X_test, True)"
   ]
  },
  {
   "cell_type": "code",
   "execution_count": 60,
   "metadata": {},
   "outputs": [],
   "source": [
    "from skimage.transform import rotate\n",
    "\n",
    "rot_list_d_6 = list()\n",
    "rot_list_i_6 = list()\n",
    "rot_list = [-10, 10]\n",
    "for rot in rot_list:\n",
    "    new_X = np.empty(np.shape(X_test))\n",
    "    for i in range(np.size(X_test, 0)):\n",
    "        img = X_test[i].reshape(28, 28)\n",
    "        new_img = rotate(img, rot)\n",
    "        new_X[i] = new_img.flatten()\n",
    "    knn = KNNClassifier(k=3, strategy='brute', metric='cosine', weights=True, test_block_size=1000)\n",
    "    knn.fit(X_train, y_train)\n",
    "    d, i = knn.find_kneighbors(new_X, True)\n",
    "    rot_list_d_6.append(d)\n",
    "    rot_list_i_6.append(i)"
   ]
  },
  {
   "cell_type": "code",
   "execution_count": 310,
   "metadata": {},
   "outputs": [],
   "source": [
    "from scipy.ndimage import shift\n",
    "\n",
    "sh_list_d_6 = list()\n",
    "sh_list_i_6 = list()\n",
    "sh_list = [[1, 0], [-1, 0], [0, 1], [0, -1]]\n",
    "for sh in sh_list:\n",
    "    new_X = np.empty(np.shape(X_test))\n",
    "    for i in range(np.size(X_test, 0)):\n",
    "        img = X_test[i].reshape(28, 28)\n",
    "        new_img = shift(img, sh)\n",
    "        new_X[i] = new_img.flatten()\n",
    "    knn = KNNClassifier(k=3, strategy='brute', metric='cosine', weights=True, test_block_size=1000)\n",
    "    knn.fit(X_train, y_train)\n",
    "    d, i = knn.find_kneighbors(new_X, True)\n",
    "    sh_list_d_6.append(d)\n",
    "    sh_list_i_6.append(i)"
   ]
  },
  {
   "cell_type": "code",
   "execution_count": 322,
   "metadata": {},
   "outputs": [],
   "source": [
    "from scipy.ndimage import shift\n",
    "from skimage.transform import rotate\n",
    "\n",
    "full_list_d_6 = list()\n",
    "full_list_i_6 = list()\n",
    "\n",
    "sh_list = [[1, 0], [-1, 0], [0, 1], [0, -1]]\n",
    "rot_list = [-10, 10]\n",
    "for sh in sh_list:\n",
    "    for rot in rot_list:\n",
    "        new_X = np.empty(np.shape(X_test))\n",
    "        for i in range(np.size(X_test, 0)):\n",
    "            img = X_test[i].reshape(28, 28)\n",
    "            new_img = shift(img, sh)\n",
    "            new_img = rotate(new_img, rot)\n",
    "            new_X[i] = new_img.flatten()\n",
    "        knn = KNNClassifier(k=3, strategy='brute', metric='cosine', weights=True, test_block_size=1000)\n",
    "        knn.fit(X_train, y_train)\n",
    "        d, i = knn.find_kneighbors(new_X, True)\n",
    "        full_list_d_6.append(d)\n",
    "        full_list_i_6.append(i)"
   ]
  },
  {
   "cell_type": "code",
   "execution_count": 144,
   "metadata": {},
   "outputs": [],
   "source": [
    "from scipy.ndimage.filters import gaussian_filter\n",
    "\n",
    "new_X = np.empty(np.shape(X_test))\n",
    "for i in range(np.size(X_test, 0)):\n",
    "    img = X_test[i].reshape(28, 28)\n",
    "    new_img = gaussian_filter(img, sigma=0.5)\n",
    "    new_X[i] = new_img.flatten()\n",
    "knn = KNNClassifier(k=3, strategy='brute', metric='cosine', weights=True, test_block_size=1000)\n",
    "knn.fit(X_train, y_train)\n",
    "gauss_d_6, gauss_i_6 = knn.find_kneighbors(new_X, True)"
   ]
  },
  {
   "cell_type": "code",
   "execution_count": 325,
   "metadata": {},
   "outputs": [],
   "source": [
    "k = 3\n",
    "d_list = list()\n",
    "i_list = list()\n",
    "#d_list.append(gauss_d_6)\n",
    "#i_list.append(gauss_i_6)\n",
    "#d_list = sh_list_d_6\n",
    "for el_d in full_list_d_6:\n",
    "    d_list.append(el_d)\n",
    "for el_i in full_list_i_6:\n",
    "    i_list.append(el_i)\n",
    "for el_d in sh_list_d_6:\n",
    "    d_list.append(el_d)\n",
    "for el_i in sh_list_i_6:\n",
    "    i_list.append(el_i)\n",
    "d_list.append(d_0)\n",
    "#i_list = sh_list_i_6\n",
    "i_list.append(i_0)\n",
    "d_matr = np.concatenate(d_list, axis=1)\n",
    "i_matr = np.concatenate(i_list, axis=1)\n",
    "global_ind_matrix = np.argsort(d_matr, axis=1)[:, :k]\n",
    "y_ind_matrix = i_matr[\n",
    "        np.arange(np.size(global_ind_matrix, 0))[:, np.newaxis],\n",
    "        global_ind_matrix]\n",
    "y_dist_matrix = d_matr[\n",
    "        np.arange(np.size(global_ind_matrix, 0))[:, np.newaxis],\n",
    "        global_ind_matrix]\n",
    "k_y = y_train[y_ind_matrix]\n",
    "result_matrix_6 = np.zeros(np.size(X_test, 0))\n",
    "for j in range(np.size(X_test, 0)):\n",
    "    result_matrix_6[j] = np.argmax(\n",
    "            np.bincount(\n",
    "                    k_y[j],\n",
    "                    weights=1 / (y_dist_matrix[j] + 1e-5)\n",
    "                    )\n",
    "            )"
   ]
  },
  {
   "cell_type": "code",
   "execution_count": 326,
   "metadata": {},
   "outputs": [
    {
     "data": {
      "text/plain": [
       "0.9818"
      ]
     },
     "execution_count": 326,
     "metadata": {},
     "output_type": "execute_result"
    }
   ],
   "source": [
    "np.sum(result_matrix_6 == y_test) / np.size(y_test)"
   ]
  },
  {
   "cell_type": "code",
   "execution_count": 327,
   "metadata": {},
   "outputs": [],
   "source": [
    "from sklearn.metrics import confusion_matrix\n",
    "conf_gauss_6 = confusion_matrix(y_test, result_matrix_6)"
   ]
  },
  {
   "cell_type": "code",
   "execution_count": 328,
   "metadata": {},
   "outputs": [
    {
     "data": {
      "text/plain": [
       "array([[ 977,    0,    0,    0,    0,    0,    2,    1,    0,    0],\n",
       "       [   0, 1132,    2,    0,    0,    0,    0,    0,    0,    1],\n",
       "       [   5,    2, 1016,    0,    0,    0,    1,    6,    2,    0],\n",
       "       [   1,    0,    3,  991,    0,    2,    0,    3,    7,    3],\n",
       "       [   0,    2,    0,    0,  951,    0,    4,    1,    0,   24],\n",
       "       [   3,    0,    0,    5,    1,  867,   10,    2,    3,    1],\n",
       "       [   4,    3,    0,    0,    0,    1,  950,    0,    0,    0],\n",
       "       [   2,    5,    3,    0,    1,    0,    0, 1008,    0,    9],\n",
       "       [   2,    1,    2,    4,    2,    4,    4,    3,  950,    2],\n",
       "       [   6,    4,    0,    4,    6,    5,    0,    7,    1,  976]])"
      ]
     },
     "execution_count": 328,
     "metadata": {},
     "output_type": "execute_result"
    }
   ],
   "source": [
    "conf_gauss_6"
   ]
  },
  {
   "cell_type": "code",
   "execution_count": 329,
   "metadata": {},
   "outputs": [
    {
     "data": {
      "text/plain": [
       "array([[  0,  -1,   0,   0,   0,   0,   1,   0,   0,   0],\n",
       "       [  0,   2,  -1,  -1,   0,   0,  -1,   0,   0,   1],\n",
       "       [ -3,   1,   7,  -1,  -1,   0,   1,  -2,  -2,   0],\n",
       "       [  1,  -1,   0,  16,   0, -11,   0,  -2,   0,  -3],\n",
       "       [ -2,   0,   0,   0,   5,   0,  -2,   0,  -1,   0],\n",
       "       [ -1,   0,   0,  -4,   0,   8,   3,   1,  -3,  -4],\n",
       "       [  0,   1,   0,   0,  -2,  -2,   3,   0,   0,   0],\n",
       "       [  1,  -5,  -3,   0,   0,   0,   0,  12,   0,  -5],\n",
       "       [ -4,  -1,   0,  -6,  -2,   0,   0,   0,  14,  -1],\n",
       "       [ -2,  -3,  -2,  -1,  -1,   2,  -1,   1,  -2,   9]])"
      ]
     },
     "execution_count": 329,
     "metadata": {},
     "output_type": "execute_result"
    }
   ],
   "source": [
    "conf_gauss_6 - conf_bold\n"
   ]
  },
  {
   "cell_type": "code",
   "execution_count": 260,
   "metadata": {},
   "outputs": [
    {
     "data": {
      "image/png": "[encoded data removed]",
      "text/plain": [
       "<Figure size 432x288 with 2 Axes>"
      ]
     },
     "metadata": {
      "needs_background": "light"
     },
     "output_type": "display_data"
    }
   ],
   "source": [
    "## y_ind = np.arange(10000)\n",
    "i_arr = np.arange(10)\n",
    "y_ind = np.arange(10000)\n",
    "i_arr = np.arange(10)\n",
    "i = 3\n",
    "j = 9\n",
    "j_matr = result_matrix_6 == i\n",
    "curr = y_pred == j\n",
    "i_matr = y_test == i\n",
    "i_rec = y_ind[curr * j_matr * i_matr]\n",
    "fig = plt.figure()\n",
    "#z = np.arange(np.size(i_rec))\n",
    "#np.random.shuffle(z)\n",
    "#i_rec_9 = i_rec[z[:10]]\n",
    "for j in range(1, min(np.size(i_rec) + 1, 10)):\n",
    "    ax = fig.add_subplot(3, 3, j)\n",
    "    plt.imshow(X_test[i_rec[j - 1]].reshape(28, 28), cmap=\"Greys\")\n",
    "    plt.axis('off')\n",
    "fig.suptitle('3 detected as 9')\n",
    "fig.savefig('gauss_1.pdf')"
   ]
  },
  {
   "cell_type": "code",
   "execution_count": 241,
   "metadata": {},
   "outputs": [
    {
     "data": {
      "text/plain": [
       "9"
      ]
     },
     "execution_count": 241,
     "metadata": {},
     "output_type": "execute_result"
    }
   ],
   "source": []
  },
  {
   "cell_type": "code",
   "execution_count": null,
   "metadata": {},
   "outputs": [],
   "source": []
  }
 ],
 "metadata": {
  "kernelspec": {
   "display_name": "Python 3",
   "language": "python",
   "name": "python3"
  },
  "language_info": {
   "codemirror_mode": {
    "name": "ipython",
    "version": 3
   },
   "file_extension": ".py",
   "mimetype": "text/x-python",
   "name": "python",
   "nbconvert_exporter": "python",
   "pygments_lexer": "ipython3",
   "version": "3.6.6"
  }
 },
 "nbformat": 4,
 "nbformat_minor": 2
}
